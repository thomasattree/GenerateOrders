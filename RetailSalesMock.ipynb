{
 "cells": [
  {
   "cell_type": "markdown",
   "metadata": {},
   "source": [
    "# Mocking retail sales data\n",
    "\n",
    "This notebook aims to mock retail sales data to a sufficient level by which demonstatable forecasts can be produced with Amazon Forecast.\n",
    "\n",
    "It has been adapted from the R program found here: https://github.com/techhound/GenerateOrders/blob/master/GenerateOrders.R\n",
    "https://datasciencereview.com/how-to-generate-mock-sales-data/\n",
    "\n",
    "The key attributes we are interested in generating are:\n",
    "\n",
    "* timestamp: The date and time of a transaction\n",
    "* order_id: An identifier for the order, an order may contain multiple products sold\n",
    "* item_id: An identifier for a particular item, for now we are not adding additional metadata\n",
    "* store_id: An identifier of where the transaction took place\n",
    "* quantity: The number of item_id sold in the order"
   ]
  },
  {
   "cell_type": "code",
   "execution_count": null,
   "metadata": {},
   "outputs": [],
   "source": [
    "#We need to upgrade pandas to get around this bug https://github.com/pandas-dev/pandas/issues/39520 with the default sagemaker studio version \n",
    "!pip3 install --upgrade pandas"
   ]
  },
  {
   "cell_type": "code",
   "execution_count": 16,
   "metadata": {},
   "outputs": [],
   "source": [
    "import numpy as np\n",
    "import pandas as pd\n",
    "from datetime import datetime\n",
    "import random\n"
   ]
  },
  {
   "cell_type": "code",
   "execution_count": 2,
   "metadata": {},
   "outputs": [],
   "source": [
    "def getProductQuantity():\n",
    "    #Number of product quantity\n",
    "    x = np.array([1,2,3,4])\n",
    "    #Product quantity probability\n",
    "    # 70% Chance of selecting a 1, followed by a 17% chance of selecting a 2, following by 10% chance, etc.\n",
    "    px = np.array([0.70, 0.17, 0.1, 0.03])\n",
    "    \n",
    "    return np.random.choice(x, size=1, replace=True, p=px).item()\n",
    "    \n",
    "# for n in range(1, 101):\n",
    "#     print(getProductQuantity())"
   ]
  },
  {
   "cell_type": "code",
   "execution_count": 3,
   "metadata": {},
   "outputs": [],
   "source": [
    "def getCustomerQuantity():\n",
    "    x = np.array([1,2,3,4])\n",
    "    px = np.array([0.40, 0.30, 0.20, 0.10])\n",
    "    \n",
    "    return np.random.choice(x, size=1, replace=True, p=px).item()\n",
    "\n",
    "# for n in range(1, 101):\n",
    "#     print(getProductQuantity())"
   ]
  },
  {
   "cell_type": "code",
   "execution_count": 32,
   "metadata": {},
   "outputs": [],
   "source": [
    "def createTransaction(dt, customerID, productMax, oNum):\n",
    "    productID = np.random.randint(1, productMax, size=None, dtype=int)\n",
    "    quantity = getProductQuantity()\n",
    "    d = {\n",
    "        'orderNum': [oNum],\n",
    "        'transactionDate': [dt],\n",
    "        'customerID': [customerID],\n",
    "        'productID': [productID],\n",
    "        'quantity': [quantity]\n",
    "    }\n",
    "    df = pd.DataFrame(data=d)\n",
    "    \n",
    "    return df\n",
    "\n",
    "# print(createTransaction('1/1/2018', '20', 1000, 70))\n"
   ]
  },
  {
   "cell_type": "code",
   "execution_count": 22,
   "metadata": {},
   "outputs": [
    {
     "name": "stdout",
     "output_type": "stream",
     "text": [
      "[72,   orderNum transactionDate customerID productID quantity  oNum        dt\n",
      "0      NaN             NaN          7         9        1  70.0  1/1/2018]\n"
     ]
    }
   ],
   "source": [
    "def generateCustomers(dt, customerMax, productMax, oNum):\n",
    "    df = pd.DataFrame(columns=['orderNum', 'transactionDate', 'customerID', 'productID', 'quantity'])\n",
    "    customersToGenerate = getCustomerQuantity()\n",
    "    \n",
    "    for n in range(0, customersToGenerate):\n",
    "        customerIDs = np.random.choice(customerMax, customersToGenerate, replace=False)\n",
    "        keepSameCustomer = np.random.choice(np.array([True,False]), p = np.array([0.40, 0.60]), size = 1)\n",
    "#         print(customerIDs)\n",
    "#         print(keepSameCustomer)\n",
    "        \n",
    "        if customersToGenerate > 1 and keepSameCustomer:\n",
    "            customerIDs[range(0, customersToGenerate)] = customerIDs[0] \n",
    "            \n",
    "#         print(customerIDs)\n",
    "        for cust in range(0,len(customerIDs)):\n",
    "            dfTemp = createTransaction(dt, customerIDs[cust], productMax, oNum)\n",
    "            df = pd.concat([df, dfTemp], axis=0)\n",
    "            \n",
    "            if not keepSameCustomer and cust < len(customerIDs):\n",
    "                oNum = oNum + 1\n",
    "                \n",
    "        oNum = oNum + 1\n",
    "    \n",
    "#     display(df)\n",
    "    return([oNum,df])\n",
    "        \n",
    "print(generateCustomers('1/1/2018', 20, 100, 70))"
   ]
  },
  {
   "cell_type": "code",
   "execution_count": 30,
   "metadata": {},
   "outputs": [],
   "source": [
    "def generateOrders(customerMax, productMax, numDates):\n",
    "    df = pd.DataFrame(columns=['orderNum', 'transactionDate', 'customerID', 'productID', 'quantity'])\n",
    "    \n",
    "    oNum = 1\n",
    "    #We use the Pandas timestamp here but that can be changed https://stackoverflow.com/questions/993358/creating-a-range-of-dates-in-python\n",
    "    dateArr = pd.date_range(datetime.today(), periods=numDates).tolist()\n",
    "\n",
    "    for dt in dateArr:\n",
    "        dfTemp = generateCustomers(dt, customerMax, productMax, oNum)\n",
    "        df = pd.concat([df, dfTemp[1]], axis=0)\n",
    "        oNum = dfTemp[0]\n",
    "    \n",
    "    return(df)\n"
   ]
  },
  {
   "cell_type": "markdown",
   "metadata": {},
   "source": [
    "## To generate orders, run the cell below modifying the three varibles to suit your needs"
   ]
  },
  {
   "cell_type": "code",
   "execution_count": 35,
   "metadata": {},
   "outputs": [
    {
     "data": {
      "text/html": [
       "<div>\n",
       "<style scoped>\n",
       "    .dataframe tbody tr th:only-of-type {\n",
       "        vertical-align: middle;\n",
       "    }\n",
       "\n",
       "    .dataframe tbody tr th {\n",
       "        vertical-align: top;\n",
       "    }\n",
       "\n",
       "    .dataframe thead th {\n",
       "        text-align: right;\n",
       "    }\n",
       "</style>\n",
       "<table border=\"1\" class=\"dataframe\">\n",
       "  <thead>\n",
       "    <tr style=\"text-align: right;\">\n",
       "      <th></th>\n",
       "      <th>orderNum</th>\n",
       "      <th>transactionDate</th>\n",
       "      <th>customerID</th>\n",
       "      <th>productID</th>\n",
       "      <th>quantity</th>\n",
       "    </tr>\n",
       "  </thead>\n",
       "  <tbody>\n",
       "    <tr>\n",
       "      <th>0</th>\n",
       "      <td>1</td>\n",
       "      <td>2021-07-20 17:40:27.114598</td>\n",
       "      <td>5932</td>\n",
       "      <td>13886</td>\n",
       "      <td>2</td>\n",
       "    </tr>\n",
       "    <tr>\n",
       "      <th>0</th>\n",
       "      <td>3</td>\n",
       "      <td>2021-07-21 17:40:27.114598</td>\n",
       "      <td>6176</td>\n",
       "      <td>3289</td>\n",
       "      <td>1</td>\n",
       "    </tr>\n",
       "    <tr>\n",
       "      <th>0</th>\n",
       "      <td>4</td>\n",
       "      <td>2021-07-22 17:40:27.114598</td>\n",
       "      <td>174</td>\n",
       "      <td>13109</td>\n",
       "      <td>1</td>\n",
       "    </tr>\n",
       "    <tr>\n",
       "      <th>0</th>\n",
       "      <td>5</td>\n",
       "      <td>2021-07-23 17:40:27.114598</td>\n",
       "      <td>5930</td>\n",
       "      <td>12938</td>\n",
       "      <td>1</td>\n",
       "    </tr>\n",
       "    <tr>\n",
       "      <th>0</th>\n",
       "      <td>6</td>\n",
       "      <td>2021-07-24 17:40:27.114598</td>\n",
       "      <td>2462</td>\n",
       "      <td>12437</td>\n",
       "      <td>1</td>\n",
       "    </tr>\n",
       "    <tr>\n",
       "      <th>...</th>\n",
       "      <td>...</td>\n",
       "      <td>...</td>\n",
       "      <td>...</td>\n",
       "      <td>...</td>\n",
       "      <td>...</td>\n",
       "    </tr>\n",
       "    <tr>\n",
       "      <th>0</th>\n",
       "      <td>10024</td>\n",
       "      <td>2027-01-08 17:40:27.114598</td>\n",
       "      <td>908</td>\n",
       "      <td>579</td>\n",
       "      <td>3</td>\n",
       "    </tr>\n",
       "    <tr>\n",
       "      <th>0</th>\n",
       "      <td>10024</td>\n",
       "      <td>2027-01-08 17:40:27.114598</td>\n",
       "      <td>908</td>\n",
       "      <td>145</td>\n",
       "      <td>1</td>\n",
       "    </tr>\n",
       "    <tr>\n",
       "      <th>0</th>\n",
       "      <td>10025</td>\n",
       "      <td>2027-01-08 17:40:27.114598</td>\n",
       "      <td>2029</td>\n",
       "      <td>11645</td>\n",
       "      <td>1</td>\n",
       "    </tr>\n",
       "    <tr>\n",
       "      <th>0</th>\n",
       "      <td>10025</td>\n",
       "      <td>2027-01-08 17:40:27.114598</td>\n",
       "      <td>2029</td>\n",
       "      <td>6826</td>\n",
       "      <td>2</td>\n",
       "    </tr>\n",
       "    <tr>\n",
       "      <th>0</th>\n",
       "      <td>10026</td>\n",
       "      <td>2027-01-09 17:40:27.114598</td>\n",
       "      <td>1784</td>\n",
       "      <td>5845</td>\n",
       "      <td>1</td>\n",
       "    </tr>\n",
       "  </tbody>\n",
       "</table>\n",
       "<p>10026 rows × 5 columns</p>\n",
       "</div>"
      ],
      "text/plain": [
       "   orderNum            transactionDate customerID productID quantity\n",
       "0         1 2021-07-20 17:40:27.114598       5932     13886        2\n",
       "0         3 2021-07-21 17:40:27.114598       6176      3289        1\n",
       "0         4 2021-07-22 17:40:27.114598        174     13109        1\n",
       "0         5 2021-07-23 17:40:27.114598       5930     12938        1\n",
       "0         6 2021-07-24 17:40:27.114598       2462     12437        1\n",
       "..      ...                        ...        ...       ...      ...\n",
       "0     10024 2027-01-08 17:40:27.114598        908       579        3\n",
       "0     10024 2027-01-08 17:40:27.114598        908       145        1\n",
       "0     10025 2027-01-08 17:40:27.114598       2029     11645        1\n",
       "0     10025 2027-01-08 17:40:27.114598       2029      6826        2\n",
       "0     10026 2027-01-09 17:40:27.114598       1784      5845        1\n",
       "\n",
       "[10026 rows x 5 columns]"
      ]
     },
     "metadata": {},
     "output_type": "display_data"
    }
   ],
   "source": [
    "#generateOrders(mximum number of customers, maximum number of products, number of dates)\n",
    "orders = generateOrders(7000, 20000, 2000)\n",
    "display(orders)"
   ]
  },
  {
   "cell_type": "markdown",
   "metadata": {},
   "source": [
    "## To output to CSV run this cell"
   ]
  },
  {
   "cell_type": "code",
   "execution_count": null,
   "metadata": {},
   "outputs": [],
   "source": [
    "orders.to_csv(index=False)"
   ]
  }
 ],
 "metadata": {
  "instance_type": "ml.m5.large",
  "kernelspec": {
   "display_name": "Python 3 (Data Science)",
   "language": "python",
   "name": "python3__SAGEMAKER_INTERNAL__arn:aws:sagemaker:eu-west-1:470317259841:image/datascience-1.0"
  },
  "language_info": {
   "codemirror_mode": {
    "name": "ipython",
    "version": 3
   },
   "file_extension": ".py",
   "mimetype": "text/x-python",
   "name": "python",
   "nbconvert_exporter": "python",
   "pygments_lexer": "ipython3",
   "version": "3.7.10"
  }
 },
 "nbformat": 4,
 "nbformat_minor": 4
}
